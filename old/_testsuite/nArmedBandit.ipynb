{
 "cells": [
  {
   "cell_type": "markdown",
   "metadata": {},
   "source": [
    "## $n$-armed bandit\n",
    "a coding try"
   ]
  },
  {
   "cell_type": "code",
   "execution_count": 1,
   "metadata": {},
   "outputs": [],
   "source": [
    "import numpy as np\n",
    "import matplotlib.pyplot as plt\n",
    "%matplotlib inline"
   ]
  },
  {
   "cell_type": "code",
   "execution_count": null,
   "metadata": {},
   "outputs": [],
   "source": [
    "# first, let's code the bandit as a class\n",
    "# we assume, that the rewards and the actions are stochastically sampled \n",
    "\n",
    "\n",
    "class Bandit():\n",
    "    \n",
    "    __init__(self, n_arms, explore=0.1, q_init=0):\n",
    "        self._n_arms = n_arms\n",
    "        self._explore = explore\n",
    "        self._number_arms_chosen = np.zeros(self._n_arms)\n",
    "        self._means = np.random.normal(0, 1, self._n_arms)\n",
    "        self._estimates = np.zeros(self._n_arms)\n",
    "        \n",
    "    def play(self):\n",
    "        p = np.random.random()\n",
    "        if(p > self._explore):\n",
    "            k = self._estimates.argmax()\n",
    "            r = np.random.normal(self._means, 1)\n",
    "            self.estim\n",
    "        \n",
    "        \n",
    "        \n",
    "    "
   ]
  },
  {
   "cell_type": "code",
   "execution_count": 7,
   "metadata": {},
   "outputs": [
    {
     "data": {
      "text/plain": [
       "0.8852201345858484"
      ]
     },
     "execution_count": 7,
     "metadata": {},
     "output_type": "execute_result"
    }
   ],
   "source": [
    "np.random.random()"
   ]
  },
  {
   "cell_type": "code",
   "execution_count": null,
   "metadata": {},
   "outputs": [],
   "source": []
  }
 ],
 "metadata": {
  "kernelspec": {
   "display_name": "Python 3",
   "language": "python",
   "name": "python3"
  },
  "language_info": {
   "codemirror_mode": {
    "name": "ipython",
    "version": 3
   },
   "file_extension": ".py",
   "mimetype": "text/x-python",
   "name": "python",
   "nbconvert_exporter": "python",
   "pygments_lexer": "ipython3",
   "version": "3.6.4"
  }
 },
 "nbformat": 4,
 "nbformat_minor": 2
}
