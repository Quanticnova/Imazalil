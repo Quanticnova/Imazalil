{
 "cells": [
  {
   "cell_type": "code",
   "execution_count": 18,
   "metadata": {},
   "outputs": [],
   "source": [
    "import numpy as np\n",
    "import matplotlib.pyplot as plt\n",
    "import ABM as abm\n",
    "import uuid \n",
    "import matplotlib.colors as col\n",
    "\n",
    "%matplotlib inline"
   ]
  },
  {
   "cell_type": "code",
   "execution_count": 2,
   "metadata": {},
   "outputs": [],
   "source": [
    "np.random.seed(12345678)"
   ]
  },
  {
   "cell_type": "code",
   "execution_count": 3,
   "metadata": {},
   "outputs": [],
   "source": [
    "grid = abm.Grid(20,20, 0.2, 0, 4, 0, 8, 0, 0.2, 2, 0.5)"
   ]
  },
  {
   "cell_type": "code",
   "execution_count": 40,
   "metadata": {},
   "outputs": [
    {
     "data": {
      "text/plain": [
       "<matplotlib.image.AxesImage at 0x10b4947b8>"
      ]
     },
     "execution_count": 40,
     "metadata": {},
     "output_type": "execute_result"
    },
    {
     "data": {
      "image/png": "[encoded data removed]",
      "text/plain": [
       "<matplotlib.figure.Figure at 0x10acbcc18>"
      ]
     },
     "metadata": {},
     "output_type": "display_data"
    }
   ],
   "source": [
    "class Explorer(object):\n",
    "    __slots__ = ['_ID', '_map', '_NN', '_route']\n",
    "\n",
    "    def __init__(self, env_shape, _NN=None):\n",
    "        self._ID = \"\".join(['E', str(uuid.uuid4())])\n",
    "        self._map = np.zeros(env_shape)\n",
    "        # self._NN = <some DQN instance>\n",
    "        self._route = []\n",
    "        \n",
    "    def action(self, data_in):\n",
    "        \"\"\"\n",
    "        propagate input data through the NN and calculate new parameters for the next turn -> self._NN\n",
    "        \"\"\"\n",
    "        pass\n",
    "    \n",
    "    def explore(self):\n",
    "        pass\n",
    "\n",
    "a = Explorer((5,5))\n",
    "a._ID\n",
    "plt.imshow(a._map, cmap=cm)\n",
    "        \n"
   ]
  },
  {
   "cell_type": "code",
   "execution_count": 5,
   "metadata": {},
   "outputs": [],
   "source": [
    "def grid2scatter(grid):\n",
    "    y, x = np.where(grid.get_grid() != '')\n",
    "    return y,x\n",
    "\n",
    "y, x = grid2scatter(grid)"
   ]
  },
  {
   "cell_type": "code",
   "execution_count": 33,
   "metadata": {},
   "outputs": [],
   "source": [
    "lb = plt.cm.coolwarm(0)\n",
    "ub = plt.cm.coolwarm(255)\n",
    "mid = plt.cm.gist_gray(0)\n",
    "cm = col.LinearSegmentedColormap.from_list('newCM', [lb, mid, ub])\n"
   ]
  },
  {
   "cell_type": "code",
   "execution_count": 72,
   "metadata": {},
   "outputs": [],
   "source": [
    "cmlist = []\n",
    "segments = [(0, 127), (127, 129), (129, 256)]\n",
    "cms = [plt.cm.jet, plt.cm.gist_gray, plt.cm.jet]\n",
    "for j,s in enumerate(segments):\n",
    "    l,u = s\n",
    "    for n in range(l,u):\n",
    "        cmlist.append(cms[j](n))\n",
    "#print(cmlist)\n",
    "cm = col.LinearSegmentedColormap.from_list('newCM', cmlist)\n",
    "#col.LinearSegmentedColormap.from_list?"
   ]
  },
  {
   "cell_type": "code",
   "execution_count": 77,
   "metadata": {},
   "outputs": [
    {
     "data": {
      "text/plain": [
       "<matplotlib.colorbar.Colorbar at 0x10fe3cc88>"
      ]
     },
     "execution_count": 77,
     "metadata": {},
     "output_type": "execute_result"
    },
    {
     "data": {
      "image/png": "[encoded data removed]",
      "text/plain": [
       "<matplotlib.figure.Figure at 0x10fc29518>"
      ]
     },
     "metadata": {},
     "output_type": "display_data"
    }
   ],
   "source": [
    "data = np.random.rand(400)*2 - 1\n",
    "data = data.reshape(20,20)\n",
    "plt.figure(figsize=(9,9))\n",
    "test = np.zeros_like(data)+0.01\n",
    "im = plt.imshow(test, vmin=-1, vmax=1, cmap=cm)\n",
    "plt.scatter(x, y, color='r', marker='o')\n",
    "#plt.scatter(i,j, color='k', marker='.')\n",
    "plt.colorbar(im)"
   ]
  },
  {
   "cell_type": "code",
   "execution_count": 53,
   "metadata": {},
   "outputs": [
    {
     "ename": "AttributeError",
     "evalue": "'Prey' object has no attribute '_map'",
     "output_type": "error",
     "traceback": [
      "\u001b[0;31m---------------------------------------------------------------------------\u001b[0m",
      "\u001b[0;31mAttributeError\u001b[0m                            Traceback (most recent call last)",
      "\u001b[0;32m<ipython-input-53-e68878224877>\u001b[0m in \u001b[0;36m<module>\u001b[0;34m()\u001b[0m\n\u001b[1;32m      1\u001b[0m \u001b[0;32mfor\u001b[0m \u001b[0magent\u001b[0m \u001b[0;32min\u001b[0m \u001b[0mgrid\u001b[0m\u001b[0;34m.\u001b[0m\u001b[0m_preydict\u001b[0m\u001b[0;34m.\u001b[0m\u001b[0mvalues\u001b[0m\u001b[0;34m(\u001b[0m\u001b[0;34m)\u001b[0m\u001b[0;34m:\u001b[0m\u001b[0;34m\u001b[0m\u001b[0m\n\u001b[0;32m----> 2\u001b[0;31m     \u001b[0magent\u001b[0m\u001b[0;34m.\u001b[0m\u001b[0m_map\u001b[0m \u001b[0;34m=\u001b[0m \u001b[0mnp\u001b[0m\u001b[0;34m.\u001b[0m\u001b[0mzeros\u001b[0m\u001b[0;34m(\u001b[0m\u001b[0mdata\u001b[0m\u001b[0;34m.\u001b[0m\u001b[0mshape\u001b[0m\u001b[0;34m)\u001b[0m\u001b[0;34m\u001b[0m\u001b[0m\n\u001b[0m",
      "\u001b[0;31mAttributeError\u001b[0m: 'Prey' object has no attribute '_map'"
     ]
    }
   ],
   "source": [
    "for agent in grid._preydict.values():\n",
    "    agent._map = np.zeros(data.shape)\n"
   ]
  },
  {
   "cell_type": "code",
   "execution_count": 24,
   "metadata": {},
   "outputs": [
    {
     "data": {
      "text/plain": [
       "<matplotlib.collections.PathCollection at 0x7f1a6b272f60>"
      ]
     },
     "execution_count": 24,
     "metadata": {},
     "output_type": "execute_result"
    },
    {
     "data": {
      "image/png": "[encoded data removed]",
      "text/plain": [
       "<matplotlib.figure.Figure at 0x7f1a6b02a080>"
      ]
     },
     "metadata": {},
     "output_type": "display_data"
    }
   ],
   "source": [
    "plt.figure(figsize=(9,9))\n",
    "ID = grid._grid[0,0]\n",
    "agentdata = grid._preydict[ID]._map\n",
    "agent = grid._preydict[ID]\n",
    "\n",
    "idx_nbh, nbh = grid.get_Nbh([0,0])\n",
    "for i in idx_nbh:\n",
    "    k, j = i\n",
    "    agentdata[k,j] = data[k,j]\n",
    "\n",
    "plt.imshow(agentdata, vmin=-1, vmax=1)\n",
    "plt.scatter(0,0,color='red',marker='o')\n"
   ]
  },
  {
   "cell_type": "code",
   "execution_count": 31,
   "metadata": {},
   "outputs": [
    {
     "data": {
      "text/plain": [
       "<matplotlib.collections.PathCollection at 0x7f1a6b54b828>"
      ]
     },
     "execution_count": 31,
     "metadata": {},
     "output_type": "execute_result"
    },
    {
     "data": {
      "image/png": "[encoded data removed]",
      "text/plain": [
       "<matplotlib.figure.Figure at 0x7f1a6b54b780>"
      ]
     },
     "metadata": {},
     "output_type": "display_data"
    }
   ],
   "source": [
    "#grid.Move([0,0], direction=[1,1])\n",
    "plt.figure(figsize=(9,9))\n",
    "idx_nbh, nbh = grid.get_Nbh([2,2])\n",
    "for i in idx_nbh:\n",
    "    k, j = i\n",
    "    agentdata[k,j] = data[k,j]\n",
    "plt.imshow(agentdata, vmin=-1, vmax=1)\n",
    "plt.scatter(2,2,color='red',marker='o')"
   ]
  },
  {
   "cell_type": "code",
   "execution_count": null,
   "metadata": {
    "collapsed": true
   },
   "outputs": [],
   "source": []
  }
 ],
 "metadata": {
  "kernelspec": {
   "display_name": "Python 3",
   "language": "python",
   "name": "python3"
  },
  "language_info": {
   "codemirror_mode": {
    "name": "ipython",
    "version": 3
   },
   "file_extension": ".py",
   "mimetype": "text/x-python",
   "name": "python",
   "nbconvert_exporter": "python",
   "pygments_lexer": "ipython3",
   "version": "3.6.3"
  }
 },
 "nbformat": 4,
 "nbformat_minor": 2
}
